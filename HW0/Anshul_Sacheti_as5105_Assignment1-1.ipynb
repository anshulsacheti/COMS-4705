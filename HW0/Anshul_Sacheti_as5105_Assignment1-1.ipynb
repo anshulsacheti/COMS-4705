{
 "cells": [
  {
   "cell_type": "markdown",
   "metadata": {},
   "source": [
    "# Assignment 1\n",
    "\n",
    "This assignment serves the purpose of introducing you to the basics of natural language processing and, more specifically, the natural language processing toolkit, [nltk](http://www.nltk.org/)."
   ]
  },
  {
   "cell_type": "markdown",
   "metadata": {},
   "source": [
    "## Part 1\n",
    "\n",
    "Write code to process the [Brown Corpus](http://www.nltk.org/howto/corpus.html) and answer the questions below . "
   ]
  },
  {
   "cell_type": "markdown",
   "metadata": {},
   "source": [
    "1) Write a list, named `nouns`, which contains five nouns that are more common in their plural form than their singular form. (5 points)"
   ]
  },
  {
   "cell_type": "code",
   "execution_count": 4,
   "metadata": {
    "collapsed": true
   },
   "outputs": [],
   "source": [
    "nouns = [\"years\", \"things\", \"words\", \"hours\", \"members\"]"
   ]
  },
  {
   "cell_type": "code",
   "execution_count": 89,
   "metadata": {},
   "outputs": [
    {
     "name": "stdout",
     "output_type": "stream",
     "text": [
      "nouns: ['years', 'things', 'words', 'hours', 'members']\n"
     ]
    }
   ],
   "source": [
    "import nltk\n",
    "from nltk.corpus import brown as brown\n",
    "\n",
    "#Part 1a\n",
    "#From NLTK Tutorial\n",
    "\n",
    "#Return all words with a specific tag\n",
    "def findtags(tag_prefix, tagged_text):\n",
    "    cfd = nltk.ConditionalFreqDist((tag, word) for (word, tag) in tagged_text\n",
    "                                  if tag.startswith(tag_prefix))\n",
    "    return dict((tag, cfd[tag]) for tag in cfd.conditions())\n",
    "\n",
    "tagdict = findtags('NN', brown.tagged_words())\n",
    "nn = tagdict[\"NN\"].most_common(1000)\n",
    "\n",
    "#Add 's' to any word and if the word is valid, then most likely a plural word whose count we can compare\n",
    "pluralSetSize=0\n",
    "nouns = []\n",
    "for (noun, count) in nn:\n",
    "    plural = noun + \"s\"\n",
    "    #print(\"Got here with noun %s and count %d and looking at plural %s\" % (noun, count, plural))\n",
    "    pluralCount = tagdict[\"NNS\"][plural]\n",
    "    if pluralCount > count:\n",
    "        #print(\"%s with count %d vs %d\" % (plural, pluralCount ,count))\n",
    "        nouns.append(plural)\n",
    "        pluralSetSize=pluralSetSize+1\n",
    "    if pluralSetSize >= 5: break\n",
    "print(\"nouns: %s\" % nouns)"
   ]
  },
  {
   "cell_type": "markdown",
   "metadata": {},
   "source": [
    "2) Which word has the greatest number of distinct tags? What are they? Assign this word to the variable `g_word` and print its tag. (1 point)"
   ]
  },
  {
   "cell_type": "code",
   "execution_count": 9,
   "metadata": {},
   "outputs": [
    {
     "name": "stdout",
     "output_type": "stream",
     "text": [
      "CS DT WPS WPO QL DT-NC DT-TL WPS-TL WPS-NC CS-NC WPS-HL CS-HL DT-HL NIL WPO-NC\n"
     ]
    }
   ],
   "source": [
    "g_word = \"that\"\n",
    "print(\"%s\" % \"CS DT WPS WPO QL DT-NC DT-TL WPS-TL WPS-NC CS-NC WPS-HL CS-HL DT-HL NIL WPO-NC\")"
   ]
  },
  {
   "cell_type": "code",
   "execution_count": 90,
   "metadata": {},
   "outputs": [
    {
     "name": "stdout",
     "output_type": "stream",
     "text": [
      "gword: that with tags CS DT WPS WPO QL DT-NC DT-TL WPS-TL WPS-NC CS-NC WPS-HL CS-HL DT-HL NIL WPO-NC\n"
     ]
    }
   ],
   "source": [
    "#Part 1b\n",
    "import nltk\n",
    "from nltk.corpus import brown as brown\n",
    "\n",
    "maxTags=0\n",
    "gWord = \"\"\n",
    "#From NLTK Tutorial\n",
    "#Iterate over all words and keep track of word with largest number of tags\n",
    "tagged = brown.tagged_words()\n",
    "data = nltk.ConditionalFreqDist((word.lower(), tag) for (word, tag) in tagged)\n",
    "for word in sorted(data.conditions()):\n",
    "    tags = [tag for (tag, _) in data[word].most_common()]\n",
    "    if len(tags)>maxTags:\n",
    "        #print(word, ' '.join(tags))\n",
    "        gWord = word\n",
    "        gTags = ' '.join(tags)\n",
    "        maxTags = len(tags)\n",
    "print(\"gword: %s with tags %s\" % (gWord,gTags))"
   ]
  },
  {
   "cell_type": "markdown",
   "metadata": {},
   "source": [
    "3) Write a list, `tag_freq`, containing tags in order of decreasing frequency. (4 points)"
   ]
  },
  {
   "cell_type": "code",
   "execution_count": 83,
   "metadata": {
    "collapsed": true
   },
   "outputs": [],
   "source": [
    "tag_freq = [('NOUN', 275558), ('VERB', 182750), ('.', 147565), ('ADP', 144766), ('DET', 137019), ('ADJ', 83721), ('ADV', 56239), ('PRON', 49334), ('CONJ', 38151), ('PRT', 29829), ('NUM', 14874), ('X', 1386)]\n"
   ]
  },
  {
   "cell_type": "code",
   "execution_count": 91,
   "metadata": {},
   "outputs": [
    {
     "name": "stdout",
     "output_type": "stream",
     "text": [
      "tag_freq: [('NOUN', 275558), ('VERB', 182750), ('.', 147565), ('ADP', 144766), ('DET', 137019), ('ADJ', 83721), ('ADV', 56239), ('PRON', 49334), ('CONJ', 38151), ('PRT', 29829), ('NUM', 14874), ('X', 1386)]\n"
     ]
    }
   ],
   "source": [
    "#Part 1c\n",
    "import nltk\n",
    "from nltk.corpus import brown\n",
    "#From NLTK Tutorial\n",
    "#Return all tag frequencies and sort\n",
    "tagged = brown.tagged_words(tagset=\"universal\")\n",
    "tag_fd = nltk.FreqDist(tag for (word, tag) in tagged)\n",
    "tag_freq=tag_fd.most_common()\n",
    "tag_freq.sort(key=lambda x: x[1], reverse=True)\n",
    "print(\"tag_freq: %s\" % tag_freq)"
   ]
  },
  {
   "cell_type": "markdown",
   "metadata": {},
   "source": [
    "## Part 2\n",
    "\n",
    "In this part of the assignment, use the `nltk` to find the parts of speech of the sentences below. You should use three taggers to compare the different results: `pos_tag`, `UnigramTagger`, and `BiGramTagger`. Use a multi-line comment to answer the following for each example: (6 points)\n",
    "\n",
    "*Were there any mislabeled tags in any of the word tagger results? Did the three taggers tag words differently? If so, how?* (3 points each)"
   ]
  },
  {
   "cell_type": "markdown",
   "metadata": {},
   "source": [
    "1. \"The boat is going to sink and I am scared!\""
   ]
  },
  {
   "cell_type": "code",
   "execution_count": 71,
   "metadata": {},
   "outputs": [
    {
     "name": "stdout",
     "output_type": "stream",
     "text": [
      "unigram tagging: [('The', 'DET'), ('boat', 'NOUN'), ('is', 'VERB'), ('going', 'VERB'), ('to', 'PRT'), ('sink', 'NOUN'), ('and', 'CONJ'), ('I', 'PRON'), ('am', 'VERB'), ('scared', 'VERB'), ('!', '.')]\n",
      "\n",
      "bigram tagging: [('The', 'DET'), ('boat', 'NOUN'), ('is', 'VERB'), ('going', 'VERB'), ('to', 'PRT'), ('sink', 'VERB'), ('and', 'CONJ'), ('I', 'PRON'), ('am', 'VERB'), ('scared', 'VERB'), ('!', '.')]\n",
      "\n",
      "pos tagging: [('The', 'DET'), ('boat', 'NOUN'), ('is', 'VERB'), ('going', 'VERB'), ('to', 'PRT'), ('sink', 'VERB'), ('and', 'CONJ'), ('I', 'PRON'), ('am', 'VERB'), ('scared', 'ADJ'), ('!', '.')]\n",
      "\n",
      "answer to qualitative question goes here!\n",
      "\n",
      "The unigram tagger tagged \"sink\" as a noun unlike the other 2 taggers as sink is primarily used as a noun \n",
      "in many contexts, but in this context sink is used as a verb.\n",
      "\n",
      "Both the unigram/bigram tagger tagged \"scared\" as a verb, when in context it is an adjective as defined in the pos_tag.\n",
      "\n",
      "\n"
     ]
    }
   ],
   "source": [
    "# code goes below\n",
    "testString = [\"The\", \"boat\", \"is\", \"going\", \"to\", \"sink\", \"and\", \"I\", \"am\", \"scared\", \"!\"]\n",
    "from nltk.corpus import brown\n",
    "fd = nltk.FreqDist(brown.words())\n",
    "cfd = nltk.ConditionalFreqDist(brown.tagged_words(tagset='universal'))\n",
    "\n",
    "#Referenced using NLTK Book\n",
    "\n",
    "#Unigram\n",
    "most_freq_words = fd.most_common()\n",
    "likely_tags = dict((word, cfd[word].max()) for (word, _) in most_freq_words)\n",
    "unigram_tagger = nltk.UnigramTagger(model=likely_tags)\n",
    "print(\"unigram tagging: %s\\n\" % unigram_tagger.tag(testString))\n",
    "\n",
    "#Bigram\n",
    "bigram_tagger = nltk.BigramTagger(brown.tagged_sents(tagset='universal'))\n",
    "print(\"bigram tagging: %s\\n\" % bigram_tagger.tag(testString))\n",
    "\n",
    "#pos_tag\n",
    "print(\"pos tagging: %s\" % nltk.pos_tag(testString, tagset='universal'))\n",
    "\n",
    "\n",
    "print(\"\"\"\n",
    "answer to qualitative question goes here!\n",
    "\n",
    "The unigram tagger tagged \"sink\" as a noun unlike the other 2 taggers as sink is primarily used as a noun \n",
    "in many contexts, but in this context sink is used as a verb.\n",
    "\n",
    "Both the unigram/bigram tagger tagged \"scared\" as a verb, when in context it is an adjective as defined in the pos_tag.\n",
    "\n",
    "\"\"\")"
   ]
  },
  {
   "cell_type": "markdown",
   "metadata": {},
   "source": [
    "2. \"I had a dream that I found a lost dog and instead of taking it to its rightful owner, I brought it home and kept it.\" "
   ]
  },
  {
   "cell_type": "code",
   "execution_count": 85,
   "metadata": {},
   "outputs": [
    {
     "name": "stdout",
     "output_type": "stream",
     "text": [
      "unigram tagging: [('I', 'PRON'), ('had', 'VERB'), ('a', 'DET'), ('dream', 'NOUN'), ('that', 'ADP'), ('I', 'PRON'), ('found', 'VERB'), ('a', 'DET'), ('lost', 'VERB'), ('dog', 'NOUN'), ('and', 'CONJ'), ('instead', 'ADV'), ('of', 'ADP'), ('taking', 'VERB'), ('it', 'PRON'), ('to', 'PRT'), ('its', 'DET'), ('rightful', 'ADJ'), ('owner', 'NOUN'), (',', '.'), ('I', 'PRON'), ('brought', 'VERB'), ('it', 'PRON'), ('home', 'NOUN'), ('and', 'CONJ'), ('kept', 'VERB'), ('it', 'PRON'), ('.', '.')]\n",
      "\n",
      "bigram tagging: [('I', 'PRON'), ('had', 'VERB'), ('a', 'DET'), ('dream', 'NOUN'), ('that', 'PRON'), ('I', 'PRON'), ('found', 'VERB'), ('a', 'DET'), ('lost', 'VERB'), ('dog', 'NOUN'), ('and', 'CONJ'), ('instead', 'ADV'), ('of', 'ADP'), ('taking', 'VERB'), ('it', 'PRON'), ('to', 'PRT'), ('its', 'DET'), ('rightful', 'ADJ'), ('owner', 'NOUN'), (',', '.'), ('I', 'PRON'), ('brought', 'VERB'), ('it', 'PRON'), ('home', 'NOUN'), ('and', 'CONJ'), ('kept', 'VERB'), ('it', 'PRON'), ('.', '.')]\n",
      "\n",
      "pos tagging: [('I', 'PRON'), ('had', 'VERB'), ('a', 'DET'), ('dream', 'NOUN'), ('that', 'ADP'), ('I', 'PRON'), ('found', 'VERB'), ('a', 'DET'), ('lost', 'VERB'), ('dog', 'NOUN'), ('and', 'CONJ'), ('instead', 'ADV'), ('of', 'ADP'), ('taking', 'VERB'), ('it', 'PRON'), ('to', 'PRT'), ('its', 'PRON'), ('rightful', 'ADJ'), ('owner', 'NOUN'), (',', '.'), ('I', 'PRON'), ('brought', 'VERB'), ('it', 'PRON'), ('home', 'NOUN'), ('and', 'CONJ'), ('kept', 'VERB'), ('it', 'PRON'), ('.', '.')]\n",
      "\n",
      "answer to qualitative question goes here!\n",
      "\n",
      "\"That\" is used as an adposition in pos_tag and the unigram tagger, while it's used as an pronoun in the bigram tagger. Given the context of the word, the adposition tag is correct.\n",
      "\n",
      "\"Lost\" is described as a verb in all 3 taggers but is used as an adjective in context.\n",
      "\n",
      "\"its\" is used as a determiner in bigram and the unigram tagger, while it's used as an pronoun in the pos_tag. Given\n",
      "the context of its usage, DET is the correct tag.\n",
      "\n",
      "\n",
      "\n"
     ]
    }
   ],
   "source": [
    "# code goes below\n",
    "testString = [\"I\", \"had\", \"a\", \"dream\", \"that\", \"I\", \"found\", \"a\", \"lost\", \"dog\", \"and\", \"instead\", \"of\", \"taking\", \n",
    "              \"it\", \"to\", \"its\", \"rightful\", \"owner\", \",\", \"I\", \"brought\", \"it\", \"home\", \"and\", \"kept\", \"it\", \".\"]\n",
    "\n",
    "from nltk.corpus import brown\n",
    "fd = nltk.FreqDist(brown.words())\n",
    "cfd = nltk.ConditionalFreqDist(brown.tagged_words(tagset='universal'))\n",
    "\n",
    "#Referenced using NLTK Book\n",
    "\n",
    "#Unigram\n",
    "most_freq_words = fd.most_common()\n",
    "likely_tags = dict((word, cfd[word].max()) for (word, _) in most_freq_words)\n",
    "unigram_tagger = nltk.UnigramTagger(model=likely_tags)\n",
    "print(\"unigram tagging: %s\\n\" % unigram_tagger.tag(testString))\n",
    "\n",
    "#Bigram\n",
    "bigram_tagger = nltk.BigramTagger(brown.tagged_sents(tagset='universal'))\n",
    "print(\"bigram tagging: %s\\n\" % bigram_tagger.tag(testString))\n",
    "\n",
    "#pos_tag\n",
    "print(\"pos tagging: %s\" % nltk.pos_tag(testString, tagset='universal'))\n",
    "\n",
    "print(\"\"\"\n",
    "answer to qualitative question goes here!\n",
    "\n",
    "\"That\" is used as an adposition in pos_tag and the unigram tagger, while it's used as an pronoun in the bigram tagger. Given the context of the word, the adposition tag is correct.\n",
    "\n",
    "\"Lost\" is described as a verb in all 3 taggers but is used as an adjective in context.\n",
    "\n",
    "\"its\" is used as a determiner in bigram and the unigram tagger, while it's used as an pronoun in the pos_tag. Given\n",
    "the context of its usage, DET is the correct tag.\n",
    "\n",
    "\n",
    "\"\"\")"
   ]
  },
  {
   "cell_type": "markdown",
   "metadata": {},
   "source": [
    "3. \"I'm procrastinating my code for this assignment!\""
   ]
  },
  {
   "cell_type": "code",
   "execution_count": 86,
   "metadata": {},
   "outputs": [
    {
     "name": "stdout",
     "output_type": "stream",
     "text": [
      "unigram tagging: [(\"I'm\", 'PRT'), ('procrastinating', None), ('my', 'DET'), ('code', 'NOUN'), ('for', 'ADP'), ('this', 'DET'), ('assignment', 'NOUN'), ('!', '.')]\n",
      "\n",
      "bigram tagging: [(\"I'm\", 'PRT'), ('procrastinating', None), ('my', None), ('code', None), ('for', None), ('this', None), ('assignment', None), ('!', None)]\n",
      "\n",
      "pos tagging: [(\"I'm\", 'NOUN'), ('procrastinating', 'VERB'), ('my', 'PRON'), ('code', 'NOUN'), ('for', 'ADP'), ('this', 'DET'), ('assignment', 'NOUN'), ('!', '.')]\n",
      "\n",
      "answer to qualitative question goes here!\n",
      "\n",
      "Due to the nature of the bigram tagger, because it did not know what procrastinating's tag was, it could not determine the tag for any other words following it and thus all were assigned none. For this reason, the bigram tagger will be ignored for every word after \"procrastinating\".\n",
      "\n",
      "\"I'm\" is tagged as a particle in unigram and bigram taggers, while a noun in pos_tag. Since \"I\" is a pronoun, the noun designation is most likely correct for the contraction. But if we were to split the contraction, then I would be a noun and am a verb to give us the most correct answer.\n",
      "\n",
      "\"Procrastinating\" isn't in the brown corpus, and thus no tags can be provided for the unigram and bigram tagger. pos_tag is trained on a separate dataset and thus can tag it as a verb.\n",
      "\n",
      "\"my\" was set as a determiner by the unigram tagger and pronoun by pos_tag. Using the sentence context, \"my\" is used as a determiner.\n",
      "\n",
      "\n"
     ]
    }
   ],
   "source": [
    "# code goes below\n",
    "testString = [\"I'm\", \"procrastinating\", \"my\", \"code\", \"for\", \"this\", \"assignment\", \"!\"]\n",
    "\n",
    "from nltk.corpus import brown\n",
    "fd = nltk.FreqDist(brown.words())\n",
    "cfd = nltk.ConditionalFreqDist(brown.tagged_words(tagset='universal'))\n",
    "\n",
    "#Referenced using NLTK Book\n",
    "\n",
    "#Unigram\n",
    "most_freq_words = fd.most_common()\n",
    "likely_tags = dict((word, cfd[word].max()) for (word, _) in most_freq_words)\n",
    "unigram_tagger = nltk.UnigramTagger(model=likely_tags)\n",
    "print(\"unigram tagging: %s\\n\" % unigram_tagger.tag(testString))\n",
    "\n",
    "#Bigram\n",
    "bigram_tagger = nltk.BigramTagger(brown.tagged_sents(tagset='universal'))\n",
    "print(\"bigram tagging: %s\\n\" % bigram_tagger.tag(testString))\n",
    "\n",
    "#pos_tag\n",
    "print(\"pos tagging: %s\" % nltk.pos_tag(testString, tagset='universal'))\n",
    "\n",
    "print(\"\"\"\n",
    "answer to qualitative question goes here!\n",
    "\n",
    "Due to the nature of the bigram tagger, because it did not know what procrastinating's tag was, it could not determine the tag for any other words following it and thus all were assigned none. For this reason, the bigram tagger will be ignored for every word after \"procrastinating\".\n",
    "\n",
    "\"I'm\" is tagged as a particle in unigram and bigram taggers, while a noun in pos_tag. Since \"I\" is a pronoun, the noun designation is most likely correct for the contraction. But if we were to split the contraction, then I would be a noun and am a verb to give us the most correct answer.\n",
    "\n",
    "\"Procrastinating\" isn't in the brown corpus, and thus no tags can be provided for the unigram and bigram tagger. pos_tag is trained on a separate dataset and thus can tag it as a verb.\n",
    "\n",
    "\"my\" was set as a determiner by the unigram tagger and pronoun by pos_tag. Using the sentence context, \"my\" is used as a determiner.\n",
    "\n",
    "\"\"\")"
   ]
  },
  {
   "cell_type": "markdown",
   "metadata": {},
   "source": [
    "Why do you think different word taggers *would* obtain different tags for the same word? Explain your answer in the markdown cell below. (5 points)"
   ]
  },
  {
   "cell_type": "markdown",
   "metadata": {},
   "source": [
    "Different taggers obtain different tags for the same word as they use different sets of information to understand the context or tag of a given word. For example, in the case of unigram vs bigram taggers, unigram taggers look only at the word in question and assign the most probable tag based on all uses of the word. Bigram taggers, on the other hand, use another word to provide more information about the context. Using this combination of two words, bigram taggers can provide a more nuanced understanding of the context or tag of some word using the context/tag of the secondary word. Finally, pos_tag uses a completely different method and is trained on a completely different dataset where both can lead to different tags as words are seen in different contexts and usage patterns."
   ]
  },
  {
   "cell_type": "markdown",
   "metadata": {},
   "source": [
    "# How do you think stemming words would affect the variance-bias in word tagging? Explain your answer in the markdown cell below. (5 points)"
   ]
  },
  {
   "cell_type": "markdown",
   "metadata": {},
   "source": [
    "If we stemmed the word before we tried word tagging, we would have a single stem word mapping to its unstemmed variations. This would lead to a reduction in variance as there are less words to apply a tag to and thus a reduced total number of tags. Due to the same stemming action, an unstemmed word in a given context must now be tagged as a stemmed word in the same context. Any n-gram tagger, for example, uses the tags of the previous n-words and tags the current word based on the highest probability tag given those previous n-tags. Because of the sole usage of stemmed words, bias would increase as the more probable unstemmed words' context would drive the stemmed word's tags in the same context."
   ]
  },
  {
   "cell_type": "markdown",
   "metadata": {},
   "source": [
    "### Part 3 \n",
    "\n",
    "This part will require that you write functions to normalize and stem a given input. "
   ]
  },
  {
   "cell_type": "markdown",
   "metadata": {},
   "source": [
    "Write a function `normalize()` that takes a string of text as input and returns a list of tokenized words in lower case format. You should not use built-in functions from `nltk` or any other natural language processing modules. (6 points)"
   ]
  },
  {
   "cell_type": "code",
   "execution_count": 62,
   "metadata": {},
   "outputs": [
    {
     "name": "stdout",
     "output_type": "stream",
     "text": [
      "['i', 'had', 'a', 'dream', 'that', 'i', \"found's\", 'a', 'lost', 'dog', 'and', 'instead', 'of', 'taking', 'it', 'to', 'its', 'rightful', 'owner', 'i', 'brought', 'it', 'home', 'and', 'kept', 'it']\n"
     ]
    }
   ],
   "source": [
    "# Write normalize() below\n",
    "import string\n",
    "import re\n",
    "def normalize(val):\n",
    "    val = re.sub('([,.?!@#$%^&*:;\"+={}])|\\~`_-<>/', '', val)\n",
    "    val = re.sub('[()]', '', val)\n",
    "    val = re.sub('[[]]', '', val)\n",
    "    val = val.lower()\n",
    "    val = val.split()\n",
    "    return val\n",
    "    \n",
    "# code goes below\n",
    "testString = \"I[] had() a@ dream that I \\\"found's\\\" a lost{} dog and instead of taking it to its rightful owner, I brought it home and kept it.\"\n",
    "testString=normalize(testString)\n",
    "print(testString)\n"
   ]
  },
  {
   "cell_type": "markdown",
   "metadata": {},
   "source": [
    "Write a function `stem()` that takes a list of normalized words as input and returns **two** lists of the stemmed words -- one using the Lancaster Stemmer, the other using the Porter Stemmer. (5 points)"
   ]
  },
  {
   "cell_type": "code",
   "execution_count": 92,
   "metadata": {},
   "outputs": [
    {
     "name": "stdout",
     "output_type": "stream",
     "text": [
      "Stemmed: [['i', 'had', 'a', 'dream', 'that', 'i', 'found', 'a', 'lost', 'dog', 'and', 'instead', 'of', 'tak', 'it', 'to', 'it', 'right', 'own', 'i', 'brought', 'it', 'hom', 'and', 'kept', 'it'], ['i', 'had', 'a', 'dream', 'that', 'i', 'found', 'a', 'lost', 'dog', 'and', 'instead', 'of', 'take', 'it', 'to', 'it', 'right', 'owner', 'i', 'brought', 'it', 'home', 'and', 'kept', 'it']]\n"
     ]
    }
   ],
   "source": [
    "# write stem() below\n",
    "\n",
    "from nltk.stem.lancaster import LancasterStemmer\n",
    "from nltk.stem.porter import PorterStemmer\n",
    "import nltk\n",
    "\n",
    "testString = \"I had a dream that I found a lost dog and instead of taking it to its rightful owner, I brought it home and kept it.\"\n",
    "testString=normalize(testString)\n",
    "\n",
    "#Lancaster Stemmer\n",
    "def L_stem(val):\n",
    "    ls = LancasterStemmer()\n",
    "    finalList = []\n",
    "    for word in val:\n",
    "        finalList.append(ls.stem(word))\n",
    "    return finalList\n",
    "\n",
    "#Porter Stemmer\n",
    "def P_stem(val):\n",
    "    ps = PorterStemmer()\n",
    "    finalList = []\n",
    "    for word in val:\n",
    "        finalList.append(ps.stem(word))\n",
    "    return finalList\n",
    "\n",
    "def stem(val):\n",
    "    LList = L_stem(val)\n",
    "    pList = P_stem(val)\n",
    "    return [LList, pList]\n",
    "\n",
    "#print(\"Lancaster Stemmer = %s\\n\" % L_stem(testString))\n",
    "#print(\"Porter Stemmer = %s\" %P_stem(testString))\n",
    "\n",
    "print(\"Stemmed: %s\" % stem(testString))"
   ]
  },
  {
   "cell_type": "code",
   "execution_count": null,
   "metadata": {
    "collapsed": true
   },
   "outputs": [],
   "source": []
  }
 ],
 "metadata": {
  "kernelspec": {
   "display_name": "Python 3",
   "language": "python",
   "name": "python3"
  },
  "language_info": {
   "codemirror_mode": {
    "name": "ipython",
    "version": 3
   },
   "file_extension": ".py",
   "mimetype": "text/x-python",
   "name": "python",
   "nbconvert_exporter": "python",
   "pygments_lexer": "ipython3",
   "version": "3.6.1"
  }
 },
 "nbformat": 4,
 "nbformat_minor": 2
}
